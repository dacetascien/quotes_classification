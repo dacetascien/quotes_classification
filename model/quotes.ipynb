{
 "cells": [
  {
   "cell_type": "code",
   "execution_count": 1,
   "id": "8da8abbc",
   "metadata": {},
   "outputs": [],
   "source": [
    "import urllib.request\n",
    "from bs4 import BeautifulSoup\n",
    "import pandas as pd\n",
    "\n",
    "def get_quotes(address, npages, name, auth_id):\n",
    "    \n",
    "    data = pd.DataFrame({\"name\": [], \"auth_id\": [], \"quote\": []})\n",
    "    \n",
    "    fp = urllib.request.urlopen(address)\n",
    "    html_doc = fp.read()\n",
    "\n",
    "    soup = BeautifulSoup(html_doc, 'html.parser')\n",
    "\n",
    "    page = soup.find_all('p')\n",
    "    \n",
    "    page = page[1:]\n",
    "    page = page[:-2]\n",
    "\n",
    "    i = 0\n",
    "    while i < len(page):\n",
    "        page[i] = page[i].getText()\n",
    "        i = i+1\n",
    "\n",
    "    prev = pd.DataFrame({\"name\": [name] * len(page), \"auth_id\": [auth_id] * len(page), \"quote\": page})\n",
    "    data = pd.concat([data, prev], axis = 0, ignore_index=True)\n",
    "    \n",
    "    for i in range(npages-1):\n",
    "        fp = urllib.request.urlopen(address + str(i+2))\n",
    "        html_doc = fp.read()\n",
    "\n",
    "        soup = BeautifulSoup(html_doc, 'html.parser')\n",
    "\n",
    "        page = soup.find_all('p')\n",
    "\n",
    "        page = page[:-2]\n",
    "\n",
    "        i = 0\n",
    "        while i < len(page):\n",
    "            page[i] = page[i].getText()\n",
    "            i = i+1\n",
    "\n",
    "        prev = pd.DataFrame({\"name\": [name] * len(page), \"auth_id\": [auth_id] * len(page), \"quote\": page})\n",
    "        data = pd.concat([data, prev], axis = 0, ignore_index=True)\n",
    "        \n",
    "    return data"
   ]
  },
  {
   "cell_type": "code",
   "execution_count": 2,
   "id": "382f533b",
   "metadata": {},
   "outputs": [],
   "source": [
    "pushkin = get_quotes(\"https://rustih.ru/citaty-aleksandra-pushkina/\", 11, \"Пушкин\", 0)\n",
    "esenin = get_quotes(\"https://rustih.ru/citaty-sergeya-esenina/\", 7, \"Есенин\", 1)\n",
    "mayakovsky = get_quotes(\"https://rustih.ru/citaty-vladimira-mayakovskogo/\", 7, \"Пастернак\", 2)\n",
    "pasternak = get_quotes(\"https://rustih.ru/citaty-borisa-pasternaka/\", 11, \"Маяковский\", 3)\n",
    "vysotsky = get_quotes(\"https://rustih.ru/citaty-vladimira-vysockogo/\", 6, \"Высоцкий\", 4)\n",
    "dostoevsky = get_quotes(\"https://rustih.ru/citaty-fedora-dostoevskogo/\", 9, \"Достоевский\", 5)\n",
    "lermontov = get_quotes(\"https://rustih.ru/citaty-mixaila-lermontova/\", 3, \"Лермонтов\", 6)\n",
    "shakespear = get_quotes(\"https://rustih.ru/citaty-uilyama-shekspira/\", 11, \"Шекспир\", 7)\n",
    "bulgakov = get_quotes(\"https://rustih.ru/citaty-mixaila-bulgakova/\", 7, \"Булгаков\", 8)\n",
    "brodsky = get_quotes(\"https://rustih.ru/citaty-iosifa-brodskogo/\", 11, \"Бродский\", 9)\n",
    "gorky = get_quotes(\"https://rustih.ru/citaty-marsima-gorkogo/\", 11, \"Горький\", 10)\n",
    "hayam = get_quotes(\"https://rustih.ru/citaty-omara-xajyama/\", 8, \"Хаям\", 11)\n",
    "kafka = get_quotes(\"https://rustih.ru/citaty-franca-kafki/\", 8, \"Кафка\", 12)\n",
    "turgenev = get_quotes(\"https://rustih.ru/citaty-ivana-turgeneva/\", 3, \"Тургенев\", 13)"
   ]
  },
  {
   "cell_type": "code",
   "execution_count": 3,
   "id": "91c684ad",
   "metadata": {},
   "outputs": [],
   "source": [
    "data = pd.DataFrame({\"name\": [], \"quote\": []})\n",
    "data = pd.concat([data, pushkin, esenin, mayakovsky, pasternak, vysotsky, dostoevsky, lermontov, shakespear, bulgakov, brodsky, gorky, hayam, kafka, turgenev], axis = 0, ignore_index=True)"
   ]
  },
  {
   "cell_type": "code",
   "execution_count": 4,
   "id": "cce8e448",
   "metadata": {},
   "outputs": [],
   "source": [
    "data.to_csv(\"quotes.csv\")"
   ]
  }
 ],
 "metadata": {
  "kernelspec": {
   "display_name": "Python 3 (ipykernel)",
   "language": "python",
   "name": "python3"
  },
  "language_info": {
   "codemirror_mode": {
    "name": "ipython",
    "version": 3
   },
   "file_extension": ".py",
   "mimetype": "text/x-python",
   "name": "python",
   "nbconvert_exporter": "python",
   "pygments_lexer": "ipython3",
   "version": "3.10.2"
  }
 },
 "nbformat": 4,
 "nbformat_minor": 5
}
