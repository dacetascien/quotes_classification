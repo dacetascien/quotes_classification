{
  "nbformat": 4,
  "nbformat_minor": 0,
  "metadata": {
    "colab": {
      "name": "LSTM_Bert.ipynb",
      "provenance": [],
      "collapsed_sections": []
    },
    "kernelspec": {
      "name": "python3",
      "display_name": "Python 3"
    },
    "language_info": {
      "name": "python"
    },
    "accelerator": "GPU"
  },
  "cells": [
    {
      "cell_type": "code",
      "execution_count": 1,
      "metadata": {
        "colab": {
          "base_uri": "https://localhost:8080/"
        },
        "id": "hnDs4fzLJJYP",
        "outputId": "50acf916-fd4e-404b-ab8e-3c36116fe2b4"
      },
      "outputs": [
        {
          "output_type": "stream",
          "name": "stdout",
          "text": [
            "Requirement already satisfied: transformers in /usr/local/lib/python3.7/dist-packages (4.17.0)\n",
            "Requirement already satisfied: regex!=2019.12.17 in /usr/local/lib/python3.7/dist-packages (from transformers) (2019.12.20)\n",
            "Requirement already satisfied: packaging>=20.0 in /usr/local/lib/python3.7/dist-packages (from transformers) (21.3)\n",
            "Requirement already satisfied: sacremoses in /usr/local/lib/python3.7/dist-packages (from transformers) (0.0.49)\n",
            "Requirement already satisfied: huggingface-hub<1.0,>=0.1.0 in /usr/local/lib/python3.7/dist-packages (from transformers) (0.4.0)\n",
            "Requirement already satisfied: tokenizers!=0.11.3,>=0.11.1 in /usr/local/lib/python3.7/dist-packages (from transformers) (0.11.6)\n",
            "Requirement already satisfied: filelock in /usr/local/lib/python3.7/dist-packages (from transformers) (3.6.0)\n",
            "Requirement already satisfied: requests in /usr/local/lib/python3.7/dist-packages (from transformers) (2.23.0)\n",
            "Requirement already satisfied: importlib-metadata in /usr/local/lib/python3.7/dist-packages (from transformers) (4.11.2)\n",
            "Requirement already satisfied: tqdm>=4.27 in /usr/local/lib/python3.7/dist-packages (from transformers) (4.63.0)\n",
            "Requirement already satisfied: numpy>=1.17 in /usr/local/lib/python3.7/dist-packages (from transformers) (1.21.5)\n",
            "Requirement already satisfied: pyyaml>=5.1 in /usr/local/lib/python3.7/dist-packages (from transformers) (6.0)\n",
            "Requirement already satisfied: typing-extensions>=3.7.4.3 in /usr/local/lib/python3.7/dist-packages (from huggingface-hub<1.0,>=0.1.0->transformers) (3.10.0.2)\n",
            "Requirement already satisfied: pyparsing!=3.0.5,>=2.0.2 in /usr/local/lib/python3.7/dist-packages (from packaging>=20.0->transformers) (3.0.7)\n",
            "Requirement already satisfied: zipp>=0.5 in /usr/local/lib/python3.7/dist-packages (from importlib-metadata->transformers) (3.7.0)\n",
            "Requirement already satisfied: certifi>=2017.4.17 in /usr/local/lib/python3.7/dist-packages (from requests->transformers) (2021.10.8)\n",
            "Requirement already satisfied: idna<3,>=2.5 in /usr/local/lib/python3.7/dist-packages (from requests->transformers) (2.10)\n",
            "Requirement already satisfied: chardet<4,>=3.0.2 in /usr/local/lib/python3.7/dist-packages (from requests->transformers) (3.0.4)\n",
            "Requirement already satisfied: urllib3!=1.25.0,!=1.25.1,<1.26,>=1.21.1 in /usr/local/lib/python3.7/dist-packages (from requests->transformers) (1.24.3)\n",
            "Requirement already satisfied: joblib in /usr/local/lib/python3.7/dist-packages (from sacremoses->transformers) (1.1.0)\n",
            "Requirement already satisfied: six in /usr/local/lib/python3.7/dist-packages (from sacremoses->transformers) (1.15.0)\n",
            "Requirement already satisfied: click in /usr/local/lib/python3.7/dist-packages (from sacremoses->transformers) (7.1.2)\n"
          ]
        }
      ],
      "source": [
        "!pip install transformers\n",
        "import pandas as pd \n",
        "import numpy as np\n",
        "from transformers import BertTokenizer, BertModel\n",
        "import torch\n",
        "from sklearn.model_selection import train_test_split"
      ]
    },
    {
      "cell_type": "code",
      "source": [
        "data = pd.read_csv('quotes.csv')"
      ],
      "metadata": {
        "id": "xu7IJSXwJMOZ"
      },
      "execution_count": 2,
      "outputs": []
    },
    {
      "cell_type": "code",
      "source": [
        "data[\"name\"].unique()"
      ],
      "metadata": {
        "colab": {
          "base_uri": "https://localhost:8080/"
        },
        "id": "DVEYJGuRxFx6",
        "outputId": "766b0ca5-da80-4712-e737-8c3cbb90f79a"
      },
      "execution_count": 3,
      "outputs": [
        {
          "output_type": "execute_result",
          "data": {
            "text/plain": [
              "array(['Пушкин', 'Есенин', 'Пастернак', 'Маяковский', 'Высоцкий',\n",
              "       'Достоевский', 'Лермонтов', 'Шекспир', 'Булгаков', 'Бродский',\n",
              "       'Горький', 'Хаям', 'Кафка', 'Тургенев'], dtype=object)"
            ]
          },
          "metadata": {},
          "execution_count": 3
        }
      ]
    },
    {
      "cell_type": "code",
      "source": [
        "data = data[(data[\"name\"] == \"Кафка\") | (data[\"name\"] == \"Пушкин\")]\n",
        "data[\"auth_id\"][data['name'] == \"Кафка\"] = 1"
      ],
      "metadata": {
        "id": "mlltFD6dtylw",
        "colab": {
          "base_uri": "https://localhost:8080/"
        },
        "outputId": "593684f3-2bec-4507-c314-0e74a1e0ae04"
      },
      "execution_count": 4,
      "outputs": [
        {
          "output_type": "stream",
          "name": "stderr",
          "text": [
            "/usr/local/lib/python3.7/dist-packages/ipykernel_launcher.py:2: SettingWithCopyWarning: \n",
            "A value is trying to be set on a copy of a slice from a DataFrame\n",
            "\n",
            "See the caveats in the documentation: https://pandas.pydata.org/pandas-docs/stable/user_guide/indexing.html#returning-a-view-versus-a-copy\n",
            "  \n",
            "/usr/local/lib/python3.7/dist-packages/pandas/core/generic.py:8870: SettingWithCopyWarning: \n",
            "A value is trying to be set on a copy of a slice from a DataFrame\n",
            "\n",
            "See the caveats in the documentation: https://pandas.pydata.org/pandas-docs/stable/user_guide/indexing.html#returning-a-view-versus-a-copy\n",
            "  return self._update_inplace(result)\n"
          ]
        }
      ]
    },
    {
      "cell_type": "code",
      "source": [
        "rez = np.zeros((len(data), 2), dtype=np.float64)\n",
        "k = 0\n",
        "for i in data[\"auth_id\"]:\n",
        "  rez[k][int(i)] = 1\n",
        "  k = k + 1"
      ],
      "metadata": {
        "id": "EZM6s6l_JP7d"
      },
      "execution_count": 5,
      "outputs": []
    },
    {
      "cell_type": "code",
      "source": [
        "import sklearn\n",
        "\n",
        "X_train, X_test, y_train, y_test = sklearn.model_selection.train_test_split(data[\"quote\"], rez, test_size=0.1)"
      ],
      "metadata": {
        "id": "Jm82OPIfJSP3"
      },
      "execution_count": 6,
      "outputs": []
    },
    {
      "cell_type": "code",
      "source": [
        "# pip install transformers sentencepiece\n",
        "import torch\n",
        "from transformers import AutoTokenizer, AutoModel\n",
        "tokenizer = AutoTokenizer.from_pretrained(\"DeepPavlov/rubert-base-cased-sentence\")\n",
        "train_tokens = tokenizer.batch_encode_plus(list(X_train),max_length=256,padding='longest',truncation=True, return_tensors = \"pt\")"
      ],
      "metadata": {
        "id": "ZDRAO3JTJVP_"
      },
      "execution_count": 7,
      "outputs": []
    },
    {
      "cell_type": "code",
      "source": [
        "from torch.utils.data import TensorDataset\n",
        "train_ds = TensorDataset(train_tokens[\"input_ids\"], torch.tensor(y_train, dtype=torch.float), train_tokens[\"attention_mask\"])"
      ],
      "metadata": {
        "id": "fPmC5Q-lJaZd"
      },
      "execution_count": 8,
      "outputs": []
    },
    {
      "cell_type": "code",
      "source": [
        "train_dl = torch.utils.data.DataLoader(train_ds, batch_size=20, shuffle=False)"
      ],
      "metadata": {
        "id": "5Tqq1z-UJdeK"
      },
      "execution_count": 9,
      "outputs": []
    },
    {
      "cell_type": "code",
      "source": [
        "from torch import nn\n",
        "class CustomBERTModel(nn.Module):\n",
        "    def __init__(self):\n",
        "          super(CustomBERTModel, self).__init__()\n",
        "          self.bert = BertModel.from_pretrained(\"DeepPavlov/rubert-base-cased-sentence\")\n",
        "          ### New layers:\n",
        "          self.lstm = nn.LSTM(768, 256, batch_first=True,bidirectional=True, num_layers = 4, dropout = 0.3)\n",
        "          self.linear = torch.nn.Sequential(\n",
        "              nn.Linear(256*2, 256),\n",
        "              torch.nn.Tanh(),\n",
        "              nn.Dropout(0.2),\n",
        "              nn.Linear(256, 128),\n",
        "              torch.nn.Tanh(),    \n",
        "              nn.Linear(128, 64),\n",
        "              torch.nn.Tanh(),    \n",
        "              nn.Linear(64, 32),\n",
        "              torch.nn.Tanh(),    \n",
        "              nn.Linear(32, 2)\n",
        "          )\n",
        "          self.softmax = nn.Softmax(dim = 1)\n",
        "          self.bn = nn.BatchNorm1d(768)\n",
        "\n",
        "    def forward(self, ids, mask):\n",
        "          bert_output = self.bert(ids, attention_mask=mask)\n",
        "          # sequence_output has the following shape: (batch_size, sequence_length, 768)\n",
        "          batch_output = self.bn(bert_output[\"pooler_output\"])\n",
        "          lstm_output, (h,c) = self.lstm(torch.reshape(batch_output, (bert_output[\"pooler_output\"].shape[0], 1, 768))) ## extract the 1st token's embeddings\n",
        "          hidden = torch.cat((lstm_output[:,-1, :256],lstm_output[:,0, 256:]),dim=-1)\n",
        "          linear_output = self.linear(hidden.view(-1,256*2)) ### assuming that you are only using the output of the last LSTM cell to perform classification\n",
        "          #print(lstm_output[:3][-1][:512].shape)\n",
        "          #linear_output = self.linear(lstm_output[:3][-1][:512])\n",
        "          output = self.softmax(linear_output)\n",
        "          return output"
      ],
      "metadata": {
        "id": "NWRKi-5BR3vR"
      },
      "execution_count": 10,
      "outputs": []
    },
    {
      "cell_type": "code",
      "source": [
        "bert = CustomBERTModel()"
      ],
      "metadata": {
        "id": "Pajm38UkJhpN"
      },
      "execution_count": 11,
      "outputs": []
    },
    {
      "cell_type": "code",
      "source": [
        "optimizer = torch.optim.AdamW(bert.parameters(), lr = 2e-5)\n",
        "criterion = torch.nn.CrossEntropyLoss()"
      ],
      "metadata": {
        "id": "VV5yivnhJjNv"
      },
      "execution_count": 12,
      "outputs": []
    },
    {
      "cell_type": "code",
      "source": [
        "from IPython.display import clear_output"
      ],
      "metadata": {
        "id": "OitSIlWjEHSF"
      },
      "execution_count": 13,
      "outputs": []
    },
    {
      "cell_type": "code",
      "source": [
        "test_tokens = tokenizer.batch_encode_plus(list(X_test),max_length=256,padding='longest',truncation=True, return_tensors = \"pt\")\n",
        "from torch.utils.data import TensorDataset\n",
        "test_ds = TensorDataset(test_tokens[\"input_ids\"], torch.tensor(y_test, dtype=torch.float), test_tokens[\"attention_mask\"])\n",
        "test_dl = torch.utils.data.DataLoader(test_ds, batch_size=20, shuffle=False)"
      ],
      "metadata": {
        "id": "lnsmUG6MQdNN"
      },
      "execution_count": 14,
      "outputs": []
    },
    {
      "cell_type": "code",
      "source": [
        "import matplotlib.pyplot as plt\n",
        "\n",
        "test_loss_avgs = []\n",
        "train_loss_avgs = []\n",
        "samples_list = []\n",
        "i = 0\n",
        "device = torch.device(\"cuda\")\n",
        "\n",
        "bert.to(device)\n",
        "criterion.to(device)\n",
        "\n",
        "loss_avgs = []\n",
        "\n",
        "bert.train()\n",
        "for epoch in range(100):\n",
        "    bert.train()\n",
        "    loss_list = list()\n",
        "    for batch in train_dl:\n",
        "        i = i + 1\n",
        "        optimizer.zero_grad()\n",
        "        input_ids = batch[0].to(device)\n",
        "        attention_mask = batch[2].to(device)\n",
        "        outputs = bert(input_ids, attention_mask)\n",
        "        loss = criterion(outputs, batch[1].to(device))\n",
        "        loss_list.append(float(loss))\n",
        "\n",
        "        loss.backward()\n",
        "        optimizer.step()\n",
        "\n",
        "    train_loss_avgs.append(sum(loss_list) / len(loss_list))\n",
        "\n",
        "    clear_output()\n",
        "    print(\"Train loss: \")\n",
        "    plt.plot(train_loss_avgs, '-o')\n",
        "    plt.show()\n",
        "\n",
        "    loss_list = list()\n",
        "\n",
        "    bert.eval()\n",
        "    with torch.no_grad():\n",
        "      for batch in test_dl:\n",
        "        input_ids = batch[0].to(device)\n",
        "        attention_mask = batch[2].to(device)\n",
        "        outputs = bert(input_ids, attention_mask)\n",
        "        loss = criterion(outputs, batch[1].to(device))\n",
        "        loss_list.append(float(loss))\n",
        "\n",
        "    test_loss_avgs.append(sum(loss_list)/len(loss_list))\n",
        "\n",
        "    print(\"Test loss: \")\n",
        "    plt.plot(test_loss_avgs, '-o')\n",
        "    plt.show()\n",
        "\n",
        "    print(f'epoch: {epoch}')\n"
      ],
      "metadata": {
        "id": "e1KpBOzHJk4k",
        "colab": {
          "base_uri": "https://localhost:8080/",
          "height": 568
        },
        "outputId": "8f4cb1ca-ebdc-4d9f-ffb8-eae89037b834"
      },
      "execution_count": 15,
      "outputs": [
        {
          "output_type": "stream",
          "name": "stdout",
          "text": [
            "Train loss: \n"
          ]
        },
        {
          "output_type": "display_data",
          "data": {
            "text/plain": [
              "<Figure size 432x288 with 1 Axes>"
            ],
            "image/png": "[encoded data removed]"
          },
          "metadata": {
            "needs_background": "light"
          }
        },
        {
          "output_type": "stream",
          "name": "stdout",
          "text": [
            "Test loss: \n"
          ]
        },
        {
          "output_type": "display_data",
          "data": {
            "text/plain": [
              "<Figure size 432x288 with 1 Axes>"
            ],
            "image/png": "[encoded data removed]"
          },
          "metadata": {
            "needs_background": "light"
          }
        },
        {
          "output_type": "stream",
          "name": "stdout",
          "text": [
            "epoch: 99\n"
          ]
        }
      ]
    }
  ]
}